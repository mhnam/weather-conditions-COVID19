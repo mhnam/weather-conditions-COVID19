{
 "cells": [
  {
   "cell_type": "code",
   "execution_count": 2,
   "metadata": {},
   "outputs": [
    {
     "ename": "SyntaxError",
     "evalue": "invalid syntax (<ipython-input-2-ca0295b8eca9>, line 1)",
     "output_type": "error",
     "traceback": [
      "\u001b[0;36m  File \u001b[0;32m\"<ipython-input-2-ca0295b8eca9>\"\u001b[0;36m, line \u001b[0;32m1\u001b[0m\n\u001b[0;31m    export ECMWF_API_URL=\"https://api.ecmwf.int/v1\"\u001b[0m\n\u001b[0m                       ^\u001b[0m\n\u001b[0;31mSyntaxError\u001b[0m\u001b[0;31m:\u001b[0m invalid syntax\n"
     ]
    }
   ],
   "source": [
    "export ECMWF_API_URL=\"https://api.ecmwf.int/v1\"\n",
    "export ECMWF_API_KEY=\"35fba4b59a1581554f602f6541b09654\"\n",
    "export ECMWF_API_EMAIL=\"minhyuk.nam@outlook.com\""
   ]
  },
  {
   "cell_type": "code",
   "execution_count": 14,
   "metadata": {},
   "outputs": [
    {
     "name": "stdout",
     "output_type": "stream",
     "text": [
      "2020-09-18 09:59:35 ECMWF API python library 1.5.6\n",
      "2020-09-18 09:59:35 ECMWF API at https://api.ecmwf.int/v1\n",
      "2020-09-18 09:59:37 Welcome Minhyuk Nam\n",
      "2020-09-18 09:59:39 In case of problems, please check https://confluence.ecmwf.int/display/WEBAPI/Web+API+FAQ or contact servicedesk@ecmwf.int\n",
      "2020-09-18 09:59:40 Request submitted\n",
      "2020-09-18 09:59:40 Request id: 5f64067cd8c0fd70e7b4f62c\n",
      "2020-09-18 09:59:40 Request is submitted\n",
      "2020-09-18 09:59:43 Request is active\n",
      "Error contacting the WebAPI, retrying in 60 seconds ...\n"
     ]
    },
    {
     "ename": "KeyboardInterrupt",
     "evalue": "",
     "output_type": "error",
     "traceback": [
      "\u001b[0;31m---------------------------------------------------------------------------\u001b[0m",
      "\u001b[0;31mKeyboardInterrupt\u001b[0m                         Traceback (most recent call last)",
      "\u001b[0;32m<ipython-input-14-6512a0a3df9f>\u001b[0m in \u001b[0;36m<module>\u001b[0;34m()\u001b[0m\n\u001b[1;32m     12\u001b[0m     \u001b[0;34m\"time\"\u001b[0m\u001b[0;34m:\u001b[0m \u001b[0;34m\"00:00:00/12:00:00\"\u001b[0m\u001b[0;34m,\u001b[0m\u001b[0;34m\u001b[0m\u001b[0;34m\u001b[0m\u001b[0m\n\u001b[1;32m     13\u001b[0m     \u001b[0;34m\"type\"\u001b[0m\u001b[0;34m:\u001b[0m \u001b[0;34m\"fc\"\u001b[0m\u001b[0;34m,\u001b[0m\u001b[0;34m\u001b[0m\u001b[0;34m\u001b[0m\u001b[0m\n\u001b[0;32m---> 14\u001b[0;31m     \u001b[0;34m\"target\"\u001b[0m\u001b[0;34m:\u001b[0m \u001b[0;34m\"output\"\u001b[0m\u001b[0;34m\u001b[0m\u001b[0;34m\u001b[0m\u001b[0m\n\u001b[0m\u001b[1;32m     15\u001b[0m })\n",
      "\u001b[0;32m~/anaconda3/lib/python3.6/site-packages/ecmwfapi/api.py\u001b[0m in \u001b[0;36mretrieve\u001b[0;34m(self, req)\u001b[0m\n\u001b[1;32m    517\u001b[0m         \u001b[0mdataset\u001b[0m \u001b[0;34m=\u001b[0m \u001b[0mreq\u001b[0m\u001b[0;34m.\u001b[0m\u001b[0mget\u001b[0m\u001b[0;34m(\u001b[0m\u001b[0;34m\"dataset\"\u001b[0m\u001b[0;34m)\u001b[0m\u001b[0;34m\u001b[0m\u001b[0;34m\u001b[0m\u001b[0m\n\u001b[1;32m    518\u001b[0m         \u001b[0mc\u001b[0m \u001b[0;34m=\u001b[0m \u001b[0mAPIRequest\u001b[0m\u001b[0;34m(\u001b[0m\u001b[0mself\u001b[0m\u001b[0;34m.\u001b[0m\u001b[0murl\u001b[0m\u001b[0;34m,\u001b[0m \u001b[0;34m\"datasets/%s\"\u001b[0m \u001b[0;34m%\u001b[0m \u001b[0;34m(\u001b[0m\u001b[0mdataset\u001b[0m\u001b[0;34m,\u001b[0m\u001b[0;34m)\u001b[0m\u001b[0;34m,\u001b[0m \u001b[0mself\u001b[0m\u001b[0;34m.\u001b[0m\u001b[0memail\u001b[0m\u001b[0;34m,\u001b[0m \u001b[0mself\u001b[0m\u001b[0;34m.\u001b[0m\u001b[0mkey\u001b[0m\u001b[0;34m,\u001b[0m \u001b[0mself\u001b[0m\u001b[0;34m.\u001b[0m\u001b[0mtrace\u001b[0m\u001b[0;34m,\u001b[0m \u001b[0mverbose\u001b[0m\u001b[0;34m=\u001b[0m\u001b[0mself\u001b[0m\u001b[0;34m.\u001b[0m\u001b[0mverbose\u001b[0m\u001b[0;34m)\u001b[0m\u001b[0;34m\u001b[0m\u001b[0;34m\u001b[0m\u001b[0m\n\u001b[0;32m--> 519\u001b[0;31m         \u001b[0mc\u001b[0m\u001b[0;34m.\u001b[0m\u001b[0mexecute\u001b[0m\u001b[0;34m(\u001b[0m\u001b[0mreq\u001b[0m\u001b[0;34m,\u001b[0m \u001b[0mtarget\u001b[0m\u001b[0;34m)\u001b[0m\u001b[0;34m\u001b[0m\u001b[0;34m\u001b[0m\u001b[0m\n\u001b[0m\u001b[1;32m    520\u001b[0m \u001b[0;34m\u001b[0m\u001b[0m\n\u001b[1;32m    521\u001b[0m \u001b[0;31m###############################################################################\u001b[0m\u001b[0;34m\u001b[0m\u001b[0;34m\u001b[0m\u001b[0;34m\u001b[0m\u001b[0m\n",
      "\u001b[0;32m~/anaconda3/lib/python3.6/site-packages/ecmwfapi/api.py\u001b[0m in \u001b[0;36mexecute\u001b[0;34m(self, request, target)\u001b[0m\n\u001b[1;32m    460\u001b[0m                 \u001b[0mstatus\u001b[0m \u001b[0;34m=\u001b[0m \u001b[0mself\u001b[0m\u001b[0;34m.\u001b[0m\u001b[0mconnection\u001b[0m\u001b[0;34m.\u001b[0m\u001b[0mstatus\u001b[0m\u001b[0;34m\u001b[0m\u001b[0;34m\u001b[0m\u001b[0m\n\u001b[1;32m    461\u001b[0m                 \u001b[0mself\u001b[0m\u001b[0;34m.\u001b[0m\u001b[0mlog\u001b[0m\u001b[0;34m(\u001b[0m\u001b[0;34m\"Request is %s\"\u001b[0m \u001b[0;34m%\u001b[0m \u001b[0;34m(\u001b[0m\u001b[0mstatus\u001b[0m\u001b[0;34m,\u001b[0m \u001b[0;34m)\u001b[0m\u001b[0;34m)\u001b[0m\u001b[0;34m\u001b[0m\u001b[0;34m\u001b[0m\u001b[0m\n\u001b[0;32m--> 462\u001b[0;31m             \u001b[0mself\u001b[0m\u001b[0;34m.\u001b[0m\u001b[0mconnection\u001b[0m\u001b[0;34m.\u001b[0m\u001b[0mwait\u001b[0m\u001b[0;34m(\u001b[0m\u001b[0;34m)\u001b[0m\u001b[0;34m\u001b[0m\u001b[0;34m\u001b[0m\u001b[0m\n\u001b[0m\u001b[1;32m    463\u001b[0m \u001b[0;34m\u001b[0m\u001b[0m\n\u001b[1;32m    464\u001b[0m         \u001b[0;32mif\u001b[0m \u001b[0mself\u001b[0m\u001b[0;34m.\u001b[0m\u001b[0mconnection\u001b[0m\u001b[0;34m.\u001b[0m\u001b[0mstatus\u001b[0m \u001b[0;34m!=\u001b[0m \u001b[0mstatus\u001b[0m\u001b[0;34m:\u001b[0m\u001b[0;34m\u001b[0m\u001b[0;34m\u001b[0m\u001b[0m\n",
      "\u001b[0;32m~/anaconda3/lib/python3.6/site-packages/ecmwfapi/api.py\u001b[0m in \u001b[0;36mwait\u001b[0;34m(self)\u001b[0m\n\u001b[1;32m    356\u001b[0m         \u001b[0;32mif\u001b[0m \u001b[0mself\u001b[0m\u001b[0;34m.\u001b[0m\u001b[0mverbose\u001b[0m\u001b[0;34m:\u001b[0m\u001b[0;34m\u001b[0m\u001b[0;34m\u001b[0m\u001b[0m\n\u001b[1;32m    357\u001b[0m             \u001b[0mprint\u001b[0m\u001b[0;34m(\u001b[0m\u001b[0;34m\"Sleeping %s second(s)\"\u001b[0m \u001b[0;34m%\u001b[0m \u001b[0;34m(\u001b[0m\u001b[0mself\u001b[0m\u001b[0;34m.\u001b[0m\u001b[0mretry\u001b[0m\u001b[0;34m)\u001b[0m\u001b[0;34m)\u001b[0m\u001b[0;34m\u001b[0m\u001b[0;34m\u001b[0m\u001b[0m\n\u001b[0;32m--> 358\u001b[0;31m         \u001b[0mtime\u001b[0m\u001b[0;34m.\u001b[0m\u001b[0msleep\u001b[0m\u001b[0;34m(\u001b[0m\u001b[0mself\u001b[0m\u001b[0;34m.\u001b[0m\u001b[0mretry\u001b[0m\u001b[0;34m)\u001b[0m\u001b[0;34m\u001b[0m\u001b[0;34m\u001b[0m\u001b[0m\n\u001b[0m\u001b[1;32m    359\u001b[0m         \u001b[0mself\u001b[0m\u001b[0;34m.\u001b[0m\u001b[0mcall\u001b[0m\u001b[0;34m(\u001b[0m\u001b[0mself\u001b[0m\u001b[0;34m.\u001b[0m\u001b[0mlocation\u001b[0m\u001b[0;34m,\u001b[0m \u001b[0;32mNone\u001b[0m\u001b[0;34m,\u001b[0m \u001b[0;34m\"GET\"\u001b[0m\u001b[0;34m)\u001b[0m\u001b[0;34m\u001b[0m\u001b[0;34m\u001b[0m\u001b[0m\n\u001b[1;32m    360\u001b[0m \u001b[0;34m\u001b[0m\u001b[0m\n",
      "\u001b[0;31mKeyboardInterrupt\u001b[0m: "
     ]
    }
   ],
   "source": [
    "server = ECMWFDataServer(url=\"https://api.ecmwf.int/v1\",key=\"35fba4b59a1581554f602f6541b09654\",email=\"minhyuk.nam@outlook.com\")\n",
    "\n",
    "server.retrieve({\n",
    "    \"class\": \"mc\",\n",
    "    \"dataset\": \"cams_nrealtime\",\n",
    "    \"date\": \"2019-01-01/to/2020-07-31\",\n",
    "    \"expver\": \"0001\",\n",
    "    \"levtype\": \"sfc\",\n",
    "    \"param\": \"72.210/73.210/125.210/126.210/127.210\",\n",
    "    \"step\": \"3/6/9/12\",\n",
    "    \"stream\": \"oper\",\n",
    "    \"time\": \"00:00:00/12:00:00\",\n",
    "    \"type\": \"fc\",\n",
    "    \"target\": \"output\"\n",
    "})"
   ]
  },
  {
   "cell_type": "code",
   "execution_count": null,
   "metadata": {},
   "outputs": [],
   "source": []
  },
  {
   "cell_type": "code",
   "execution_count": 34,
   "metadata": {},
   "outputs": [],
   "source": [
    "import netCDF4\n",
    "from netCDF4 import Dataset\n",
    "import pandas as pd\n",
    "import datetime\n",
    "import os"
   ]
  },
  {
   "cell_type": "code",
   "execution_count": 35,
   "metadata": {},
   "outputs": [],
   "source": [
    "directory = \"/Users/minhyuk/Dropbox/RA/COVID19/weather-conditions-COVID19/WeatherDataCollection/templates\"\n",
    "os.chdir(directory)\n",
    "#os.getcwd()\n",
    "#os.system(\"dir\")"
   ]
  },
  {
   "cell_type": "markdown",
   "metadata": {},
   "source": [
    "## Set Template and Files"
   ]
  },
  {
   "cell_type": "markdown",
   "metadata": {},
   "source": [
    "Data for gases (ozone, sulfur dioxide, and nitrogen dioxide) and data for particulate matter are stored in a different batch of files. Further, different templates are used depending on the dataset to be gathered. Change following boolean to decide which files to read."
   ]
  },
  {
   "cell_type": "code",
   "execution_count": 36,
   "metadata": {},
   "outputs": [],
   "source": [
    "read_pm_files = False"
   ]
  },
  {
   "cell_type": "code",
   "execution_count": 37,
   "metadata": {},
   "outputs": [],
   "source": [
    "template_file_name = \"US_pollution_template.xlsx\"\n",
    "#template_file_name = \"global_simple_pollution_template.xlsx\"\n",
    "#template_file_name = \"city granular_template.xlsx\"\n",
    "#template_file_name = \"1072_pollution_template.xlsx\""
   ]
  },
  {
   "cell_type": "code",
   "execution_count": 38,
   "metadata": {},
   "outputs": [
    {
     "data": {
      "text/plain": [
       "'US_pollution'"
      ]
     },
     "execution_count": 38,
     "metadata": {},
     "output_type": "execute_result"
    }
   ],
   "source": [
    "template_file_name[:-14]"
   ]
  },
  {
   "cell_type": "code",
   "execution_count": 39,
   "metadata": {},
   "outputs": [],
   "source": [
    "if read_pm_files:\n",
    "    pm_df = pd.read_excel(template_file_name)\n",
    "else:\n",
    "    no2_df = pd.read_excel(template_file_name)\n",
    "    o3_df = pd.read_excel(template_file_name)\n",
    "    so2_df = pd.read_excel(template_file_name)"
   ]
  },
  {
   "cell_type": "code",
   "execution_count": 40,
   "metadata": {},
   "outputs": [],
   "source": [
    "if read_pm_files:\n",
    "    lookup_lats, lookup_longs = pm_df[\"Lat\"], pm_df[\"Long\"]\n",
    "else:\n",
    "#    lookup_lats, lookup_longs = pm_df[\"Lat\"], pm_df[\"Long\"]\n",
    "    lookup_lats, lookup_longs = no2_df[\"Lat\"], no2_df[\"Long\"]"
   ]
  },
  {
   "cell_type": "markdown",
   "metadata": {},
   "source": [
    "The following returns the lat/long indices closest to a desired point, and is used for reading from the netCDF4 layer."
   ]
  },
  {
   "cell_type": "code",
   "execution_count": 41,
   "metadata": {},
   "outputs": [],
   "source": [
    "def getClosest_ij(lats, longs, latpt, longpt):\n",
    "    #Manhattan Distance\n",
    "    i = abs(lats - latpt).argmin()\n",
    "    j = abs(longs - longpt).argmin()\n",
    "    return i,j"
   ]
  },
  {
   "cell_type": "code",
   "execution_count": 42,
   "metadata": {},
   "outputs": [],
   "source": [
    "def fill_dataframes(month, month_length, year):\n",
    "    for i in range(month_length):\n",
    "        no2_col = []\n",
    "        o3_col = []\n",
    "        so2_col = []\n",
    "        pm_col = []\n",
    "        for lat, long in zip(lookup_lats, lookup_longs):\n",
    "            iy, ix = getClosest_ij(lats, lons, lat, long)\n",
    "            if read_pm_files:\n",
    "                pm_col.append(pm[i][iy][ix])\n",
    "            else:\n",
    "                so2_col.append(so2[i][iy][ix])\n",
    "                no2_col.append(no2[i][iy][ix])\n",
    "                o3_col.append(o3[i][iy][ix])\n",
    "            \n",
    "        key = datetime.datetime(year, month, i+1).strftime(\"%Y-%m-%d\")\n",
    "        print(key)\n",
    "        \n",
    "        if read_pm_files:\n",
    "            pm_df[key] = pm_col\n",
    "        else:\n",
    "            so2_df[key] = so2_col\n",
    "            no2_df[key] = no2_col\n",
    "            o3_df[key] = o3_col"
   ]
  },
  {
   "cell_type": "markdown",
   "metadata": {},
   "source": [
    "The following are maps from file names to month, number of days, and year triples, with the triples being used to group the data by data. Notice that for the gases argument map (ozone, sulfur dioxide, nitrogen dioxide), July 2017 is commented out - this month is handled separately due to a shift in ECMWF's reporting structure."
   ]
  },
  {
   "cell_type": "code",
   "execution_count": 43,
   "metadata": {},
   "outputs": [],
   "source": [
    "pm_argument_map = {\n",
    "    \"1Jan2019\":(1,31,2019),\n",
    "    \"2Feb2019\":(2,28,2019),\n",
    "    \"3March2019\":(3,31,2019),\n",
    "    \"4April2019\":(4,30,2019),\n",
    "    \"5May2019\":(5,31,2019),\n",
    "    \"6June2019\":(6,30,2019),\n",
    "    \"7July2019\":(7,31,2019),\n",
    "    \"8Auguest2019\":(8,31,2019),\n",
    "    \"9September2019\":(9,30,2019),\n",
    "    \"10October2019\":(10,31,2019),\n",
    "    \"11November2019\":(11,30,2019),\n",
    "    \"Dec2019\":(12,31,2019),\n",
    "    \"Jan2020\":(1,31,2020),\n",
    "    \"Feb2020\":(2,29,2020),\n",
    "    \"March2020\":(3,31,2020),\n",
    "    \"April2020\":(4,30,2020)\n",
    "}"
   ]
  },
  {
   "cell_type": "code",
   "execution_count": 44,
   "metadata": {},
   "outputs": [],
   "source": [
    "gases_argument_map = {\n",
    "    \"1 Jan2019\":(1,31,2019),\n",
    "    \"2 Feb2019\":(2,28,2019),\n",
    "    \"3 March2019\":(3,31,2019),\n",
    "    \"4 April2019\":(4,30,2019),\n",
    "    \"5 May2019\":(5,31,2019),\n",
    "    \"6 June2019\":(6,30,2019),\n",
    "    #\"7 July2019\":(7,31,2019),\n",
    "    \"8 Aug2019\":(8,31,2019),\n",
    "    \"9 Sep2019\":(9,30,2019),\n",
    "    \"10 Oct2019\":(10,31,2019),\n",
    "    \"11 Nov2019\":(11,30,2019),\n",
    "    \"12 Dec2019\":(12,31,2019),\n",
    "    \"Jan2020\":(1,31,2020),\n",
    "    \"Feb2020\":(2,29,2020),\n",
    "    \"March2020\":(3,31,2020),\n",
    "    \"April2020\":(4,30,2020)\n",
    "}"
   ]
  },
  {
   "cell_type": "code",
   "execution_count": 45,
   "metadata": {},
   "outputs": [],
   "source": [
    "new_argument_map = {\n",
    "    \"April2020\":(4,30,2020)    \n",
    "#    \"May2020\":(5,31,2020),\n",
    "#    \"June2020\":(6,30,2020),\n",
    "#    \"July2020\":(7,31,2020),\n",
    "#    \"August2020\":(8,31,2020)\n",
    "}\n",
    "\n",
    "#f = Dataset(\"April2020\" + \"_level0.nc\", format=\"NETCDF4\")\n",
    "#f.variables['no'][1][:]\n"
   ]
  },
  {
   "cell_type": "code",
   "execution_count": 46,
   "metadata": {},
   "outputs": [
    {
     "name": "stdout",
     "output_type": "stream",
     "text": [
      "2020-04-01\n",
      "2020-04-02\n",
      "2020-04-03\n",
      "2020-04-04\n",
      "2020-04-05\n",
      "2020-04-06\n",
      "2020-04-07\n",
      "2020-04-08\n",
      "2020-04-09\n",
      "2020-04-10\n",
      "2020-04-11\n",
      "2020-04-12\n",
      "2020-04-13\n",
      "2020-04-14\n",
      "2020-04-15\n",
      "2020-04-16\n",
      "2020-04-17\n",
      "2020-04-18\n",
      "2020-04-19\n",
      "2020-04-20\n",
      "2020-04-21\n",
      "2020-04-22\n",
      "2020-04-23\n",
      "2020-04-24\n",
      "2020-04-25\n",
      "2020-04-26\n",
      "2020-04-27\n",
      "2020-04-28\n",
      "2020-04-29\n",
      "2020-04-30\n"
     ]
    }
   ],
   "source": [
    "if read_pm_files:\n",
    "#    month_argument_map = pm_argument_map\n",
    "    month_argument_map = new_argument_map\n",
    "\n",
    "else:\n",
    "#    month_argument_map = gases_argument_map\n",
    "    month_argument_map = new_argument_map\n",
    "    \n",
    "for file in month_argument_map:\n",
    "    f = Dataset(file + \"_level60.nc\", format=\"NETCDF4\")\n",
    "\n",
    "    lats, lons = f.variables[\"latitude\"][:], f.variables[\"longitude\"][:]\n",
    "    if read_pm_files:\n",
    "        pm = f.variables['pm2p5'][:]\n",
    "    else:\n",
    "        no2 = f.variables['no2'][:]\n",
    "        o3 = f.variables['go3'][:]\n",
    "        so2 = f.variables['so2'][:]\n",
    "\n",
    "    arg = month_argument_map[file]\n",
    "    fill_dataframes(arg[0], arg[1], arg[2])"
   ]
  },
  {
   "cell_type": "code",
   "execution_count": 47,
   "metadata": {},
   "outputs": [
    {
     "data": {
      "text/plain": [
       "odict_keys(['longitude', 'latitude', 'time', 'aermr01', 'aermr02', 'aermr03', 'aermr04', 'ch4_c', 'aermr05', 'aermr06', 'hno3', 'aermr07', 'aermr08', 'aermr09', 'aermr10', 'aermr11', 'pan', 'c5h8', 'no', 'oh', 'c2h6', 'c3h8', 'no2', 'so2', 'co', 'hcho', 't', 'q', 'vo', 'd', 'go3', 'aermr16', 'aermr17', 'aermr18'])"
      ]
     },
     "execution_count": 47,
     "metadata": {},
     "output_type": "execute_result"
    }
   ],
   "source": [
    "f.variables.keys()\n",
    "#for file in month_argument_map:\n",
    "#    arg = month_argument_map[file]\n",
    "#    print(arg)\n",
    "#f.variables['time']\n",
    "#f.variables['pm2p5'][:]\n",
    "#so2_df"
   ]
  },
  {
   "cell_type": "code",
   "execution_count": 48,
   "metadata": {},
   "outputs": [],
   "source": [
    "if read_pm_files:\n",
    "    doc_name = template_file_name[:-14]+\"_pm\"\n",
    "else:\n",
    "    doc_name = template_file_name[:-14]+\"_gases\""
   ]
  },
  {
   "cell_type": "code",
   "execution_count": 49,
   "metadata": {},
   "outputs": [],
   "source": [
    "writer = pd.ExcelWriter(doc_name+'.xlsx', engine='xlsxwriter')"
   ]
  },
  {
   "cell_type": "code",
   "execution_count": 50,
   "metadata": {},
   "outputs": [],
   "source": [
    "if read_pm_files:\n",
    "    pm_df.to_excel(writer, sheet_name = \"pm2p5\", index = False)\n",
    "else:\n",
    "    o3_df.to_excel(writer, sheet_name = \"o3\", index = False)\n",
    "    no2_df.to_excel(writer, sheet_name = \"no2\", index = False)\n",
    "    so2_df.to_excel(writer, sheet_name = \"so2\", index = False)"
   ]
  },
  {
   "cell_type": "code",
   "execution_count": 51,
   "metadata": {},
   "outputs": [],
   "source": [
    "writer.close()\n"
   ]
  },
  {
   "cell_type": "markdown",
   "metadata": {},
   "source": [
    "## Manually Reading July2019 Gas Data"
   ]
  },
  {
   "cell_type": "markdown",
   "metadata": {},
   "source": [
    "ECMWF shifted their reporting for ozone, sulfur dioxide, and nitrogen dioxide from 60 levels of vertical resolution to 137 (see https://confluence.ecmwf.int/display/COPSRV/Implementation+of+IFS+cycle+46r1), so we read both and patch them together at their transition date, which was July 9 2019."
   ]
  },
  {
   "cell_type": "code",
   "execution_count": null,
   "metadata": {},
   "outputs": [],
   "source": [
    "data60 = Dataset(\"7 July2019 level 60 up to here.nc\", format=\"NETCDF4\")"
   ]
  },
  {
   "cell_type": "code",
   "execution_count": null,
   "metadata": {},
   "outputs": [],
   "source": [
    "data137 = Dataset(\"7 Jul2019 level 137 from here.nc\", format=\"NETCDF4\")"
   ]
  },
  {
   "cell_type": "code",
   "execution_count": null,
   "metadata": {},
   "outputs": [],
   "source": [
    "template_file_name = \"US_pollution_template.xlsx\"\n",
    "#template_file_name = \"global_simple_pollution_template.xlsx\"\n",
    "#template_file_name = \"city granular_template.xlsx\"\n",
    "#template_file_name = \"1072_pollution_template.xlsx\""
   ]
  },
  {
   "cell_type": "code",
   "execution_count": null,
   "metadata": {},
   "outputs": [],
   "source": [
    "no2_df = pd.read_excel(template_file_name)\n",
    "o3_df = pd.read_excel(template_file_name)\n",
    "so2_df = pd.read_excel(template_file_name)"
   ]
  },
  {
   "cell_type": "code",
   "execution_count": null,
   "metadata": {},
   "outputs": [],
   "source": [
    "lookup_lats, lookup_longs = no2_df[\"Lat\"], no2_df[\"Long\"]"
   ]
  },
  {
   "cell_type": "code",
   "execution_count": null,
   "metadata": {},
   "outputs": [],
   "source": [
    "lats, lons = data60.variables[\"latitude\"][:], data60.variables[\"longitude\"][:]\n",
    "no2 = data60.variables['no2'][:]\n",
    "o3 = data60.variables['go3'][:]\n",
    "so2 = data60.variables['so2'][:]\n",
    "\n",
    "fill_dataframes(7, 31, 2019)"
   ]
  },
  {
   "cell_type": "code",
   "execution_count": null,
   "metadata": {},
   "outputs": [],
   "source": [
    "writer = pd.ExcelWriter(template_file_name[:-14] + ' July - Level 60.xlsx', engine='xlsxwriter')\n",
    "\n",
    "o3_df.to_excel(writer, sheet_name = \"o3\", index = False)\n",
    "no2_df.to_excel(writer, sheet_name = \"no2\", index = False)\n",
    "so2_df.to_excel(writer, sheet_name = \"so2\", index = False)\n",
    "\n",
    "writer.close()"
   ]
  },
  {
   "cell_type": "markdown",
   "metadata": {},
   "source": [
    "### Level 137 Data"
   ]
  },
  {
   "cell_type": "code",
   "execution_count": null,
   "metadata": {},
   "outputs": [],
   "source": [
    "no2_df = pd.read_excel(template_file_name)\n",
    "o3_df = pd.read_excel(template_file_name)\n",
    "so2_df = pd.read_excel(template_file_name)"
   ]
  },
  {
   "cell_type": "code",
   "execution_count": null,
   "metadata": {},
   "outputs": [],
   "source": [
    "lookup_lats, lookup_longs = no2_df[\"Lat\"], no2_df[\"Long\"]"
   ]
  },
  {
   "cell_type": "code",
   "execution_count": null,
   "metadata": {},
   "outputs": [],
   "source": [
    "lats, lons = data137.variables[\"latitude\"][:], data137.variables[\"longitude\"][:]\n",
    "no2 = data137.variables['no2'][:]\n",
    "o3 = data137.variables['go3'][:]\n",
    "so2 = data137.variables['so2'][:]\n",
    "\n",
    "fill_dataframes(7, 23, 2019) #only reading 23 days since data begins on July 9."
   ]
  },
  {
   "cell_type": "code",
   "execution_count": null,
   "metadata": {},
   "outputs": [],
   "source": [
    "writer = pd.ExcelWriter(template_file_name[:-14] + ' July - Level 137.xlsx', engine='xlsxwriter')\n",
    "\n",
    "o3_df.to_excel(writer, sheet_name = \"o3\", index = False)\n",
    "no2_df.to_excel(writer, sheet_name = \"no2\", index = False)\n",
    "so2_df.to_excel(writer, sheet_name = \"so2\", index = False)\n",
    "\n",
    "writer.close()"
   ]
  }
 ],
 "metadata": {
  "kernelspec": {
   "display_name": "Python 3",
   "language": "python",
   "name": "python3"
  },
  "language_info": {
   "codemirror_mode": {
    "name": "ipython",
    "version": 3
   },
   "file_extension": ".py",
   "mimetype": "text/x-python",
   "name": "python",
   "nbconvert_exporter": "python",
   "pygments_lexer": "ipython3",
   "version": "3.6.10"
  }
 },
 "nbformat": 4,
 "nbformat_minor": 4
}

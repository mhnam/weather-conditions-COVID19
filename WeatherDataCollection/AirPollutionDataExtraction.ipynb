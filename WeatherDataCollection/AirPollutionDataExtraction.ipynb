{
 "cells": [
  {
   "cell_type": "code",
   "execution_count": 157,
   "metadata": {},
   "outputs": [],
   "source": [
    "import netCDF4\n",
    "from netCDF4 import Dataset, num2date, date2num, date2index\n",
    "import pandas as pd\n",
    "import numpy as np\n",
    "import datetime\n",
    "import os"
   ]
  },
  {
   "cell_type": "code",
   "execution_count": 158,
   "metadata": {},
   "outputs": [],
   "source": [
    "#directory = \"/Users/minhyuk/Dropbox/RA/RA_COVID19/*github/weather-conditions-COVID19/WeatherDataCollection/templates\"\n",
    "directory = \"/Users/minhyuk/Dropbox/RA/RA_COVID19/pollutant/nc\"\n",
    "\n",
    "os.chdir(directory)\n",
    "#os.getcwd()\n",
    "#os.system(\"dir\")"
   ]
  },
  {
   "cell_type": "markdown",
   "metadata": {},
   "source": [
    "## Set Template and Files"
   ]
  },
  {
   "cell_type": "markdown",
   "metadata": {},
   "source": [
    "Data for gases (ozone, sulfur dioxide, and nitrogen dioxide) and data for particulate matter are stored in a different batch of files. Further, different templates are used depending on the dataset to be gathered. Change following boolean to decide which files to read."
   ]
  },
  {
   "cell_type": "code",
   "execution_count": 159,
   "metadata": {},
   "outputs": [],
   "source": [
    "read_pm_files = True #surface level data\n",
    "key = 0 #date proxy variables while vary from 1 to XXXX (4 obs per day)"
   ]
  },
  {
   "cell_type": "code",
   "execution_count": 160,
   "metadata": {},
   "outputs": [],
   "source": [
    "template_file_name = \"US_pollution_template.xlsx\"\n",
    "#template_file_name = \"global_simple_pollution_template.xlsx\"\n",
    "#template_file_name = \"city granular_template.xlsx\"\n",
    "#template_file_name = \"1072_pollution_template.xlsx\""
   ]
  },
  {
   "cell_type": "code",
   "execution_count": 161,
   "metadata": {},
   "outputs": [
    {
     "data": {
      "text/plain": [
       "'US_pollution'"
      ]
     },
     "execution_count": 161,
     "metadata": {},
     "output_type": "execute_result"
    }
   ],
   "source": [
    "template_file_name[:-14]"
   ]
  },
  {
   "cell_type": "code",
   "execution_count": 162,
   "metadata": {},
   "outputs": [],
   "source": [
    "if read_pm_files:\n",
    "    no_df = pd.read_excel(template_file_name)\n",
    "    no2_df = pd.read_excel(template_file_name)\n",
    "    so2_df = pd.read_excel(template_file_name)\n",
    "    co_df = pd.read_excel(template_file_name)\n",
    "    pm2_df = pd.read_excel(template_file_name)\n",
    "    pm10_df = pd.read_excel(template_file_name)\n",
    "else:\n",
    "    no2_df = pd.read_excel(template_file_name)\n",
    "    o3_df = pd.read_excel(template_file_name)\n",
    "    so2_df = pd.read_excel(template_file_name)"
   ]
  },
  {
   "cell_type": "code",
   "execution_count": 163,
   "metadata": {},
   "outputs": [],
   "source": [
    "if read_pm_files:\n",
    "#    lookup_lats, lookup_longs = pm_df[\"Lat\"], pm_df[\"Long\"]\n",
    "    lookup_lats, lookup_longs = no2_df[\"Lat\"], no2_df[\"Long\"]\n",
    "else:\n",
    "    lookup_lats, lookup_longs = no2_df[\"Lat\"], no2_df[\"Long\"]"
   ]
  },
  {
   "cell_type": "markdown",
   "metadata": {},
   "source": [
    "The following returns the lat/long indices closest to a desired point, and is used for reading from the netCDF4 layer."
   ]
  },
  {
   "cell_type": "code",
   "execution_count": 164,
   "metadata": {},
   "outputs": [],
   "source": [
    "def getClosest_ij(lats, longs, latpt, longpt):\n",
    "    #Manhattan Distance\n",
    "    i = abs(lats - latpt).argmin()\n",
    "    j = abs(longs - longpt).argmin()\n",
    "    return i,j"
   ]
  },
  {
   "cell_type": "code",
   "execution_count": 165,
   "metadata": {},
   "outputs": [],
   "source": [
    "def fill_dataframes(month, month_length, year):\n",
    "    for i in range(month_length*4):\n",
    "        no_col = []\n",
    "        no2_col = []\n",
    "        so2_col = []\n",
    "        co_col = []\n",
    "        pm2_col = []\n",
    "        pm10_col = []\n",
    "        \n",
    "        for lat, long in zip(lookup_lats, lookup_longs):\n",
    "            iy, ix = getClosest_ij(lats, lons, lat, long)\n",
    "            if read_pm_files:\n",
    "                no_col.append(no[i][iy][ix])\n",
    "                no2_col.append(no2[i][iy][ix])\n",
    "                so2_col.append(so2[i][iy][ix])\n",
    "                co_col.append(co[i][iy][ix])\n",
    "                pm2_col.append(pm2[i][iy][ix])\n",
    "                pm10_col.append(pm10[i][iy][ix])\n",
    "            else:\n",
    "                so2_col.append(so2[i][iy][ix])\n",
    "                no2_col.append(no2[i][iy][ix])\n",
    "                o3_col.append(o3[i][iy][ix])\n",
    "        \n",
    "        global key\n",
    "        key = key + 1 #observation at 2019-01-01 3am is 1\n",
    "        #print(key)\n",
    "    \n",
    "        if read_pm_files:\n",
    "            no_df[key] = no_col\n",
    "            no2_df[key] = no2_col\n",
    "            so2_df[key] = so2_col\n",
    "            co_df[key] = co_col\n",
    "            pm2_df[key] = pm2_col\n",
    "            pm10_df[key] = pm10_col\n",
    "        else:\n",
    "            so2_df[key] = so2_col\n",
    "            no2_df[key] = no2_col\n",
    "            o3_df[key] = o3_col"
   ]
  },
  {
   "cell_type": "markdown",
   "metadata": {},
   "source": [
    "The following are maps from file names to month, number of days, and year triples, with the triples being used to group the data by data. Notice that for the gases argument map (ozone, sulfur dioxide, nitrogen dioxide), July 2017 is commented out - this month is handled separately due to a shift in ECMWF's reporting structure."
   ]
  },
  {
   "cell_type": "code",
   "execution_count": 166,
   "metadata": {},
   "outputs": [],
   "source": [
    "pm_argument_map = {\n",
    "    \"1Jan2019\":(1,31,2019),\n",
    "    \"2Feb2019\":(2,28,2019),\n",
    "    \"3March2019\":(3,31,2019),\n",
    "    \"4April2019\":(4,30,2019),\n",
    "    \"5May2019\":(5,31,2019),\n",
    "    \"6June2019\":(6,30,2019),\n",
    "    \"7July2019\":(7,31,2019),\n",
    "    \"8Auguest2019\":(8,31,2019),\n",
    "    \"9September2019\":(9,30,2019),\n",
    "    \"10October2019\":(10,31,2019),\n",
    "    \"11November2019\":(11,30,2019),\n",
    "    \"Dec2019\":(12,31,2019),\n",
    "    \"Jan2020\":(1,31,2020),\n",
    "    \"Feb2020\":(2,29,2020),\n",
    "    \"March2020\":(3,31,2020),\n",
    "    \"April2020\":(4,30,2020)\n",
    "}"
   ]
  },
  {
   "cell_type": "code",
   "execution_count": 167,
   "metadata": {},
   "outputs": [],
   "source": [
    "gases_argument_map = {\n",
    "    \"1 Jan2019\":(1,31,2019),\n",
    "    \"2 Feb2019\":(2,28,2019),\n",
    "    \"3 March2019\":(3,31,2019),\n",
    "    \"4 April2019\":(4,30,2019),\n",
    "    \"5 May2019\":(5,31,2019),\n",
    "    \"6 June2019\":(6,30,2019),\n",
    "    #\"7 July2019\":(7,31,2019),\n",
    "    \"8 Aug2019\":(8,31,2019),\n",
    "    \"9 Sep2019\":(9,30,2019),\n",
    "    \"10 Oct2019\":(10,31,2019),\n",
    "    \"11 Nov2019\":(11,30,2019),\n",
    "    \"12 Dec2019\":(12,31,2019),\n",
    "    \"Jan2020\":(1,31,2020),\n",
    "    \"Feb2020\":(2,29,2020),\n",
    "    \"March2020\":(3,31,2020),\n",
    "    \"April2020\":(4,30,2020)\n",
    "}"
   ]
  },
  {
   "cell_type": "code",
   "execution_count": 168,
   "metadata": {},
   "outputs": [],
   "source": [
    "new_argument_map1 = {\n",
    "    \"2019-01\":(1,31,2019),\n",
    "    \"2019-02\":(2,28,2019),\n",
    "    \"2019-03\":(3,31,2019),\n",
    "    \"2019-04\":(4,30,2019),\n",
    "    \"2019-05\":(5,31,2019),\n",
    "    \"2019-06\":(6,30,2019)\n",
    "}\n",
    "new_argument_map2 = {\n",
    "    \"2019-07\":(7,31,2019),\n",
    "    \"2019-08\":(8,31,2019),\n",
    "    \"2019-09\":(9,30,2019),\n",
    "    \"2019-10\":(10,31,2019),\n",
    "    \"2019-11\":(11,30,2019),\n",
    "    \"2019-12\":(12,31,2019)\n",
    "}\n",
    "new_argument_map3 = {\n",
    "    \"2020-01\":(1,31,2020),\n",
    "    \"2020-02\":(2,29,2020),\n",
    "    \"2020-03\":(3,31,2020),\n",
    "    \"2020-04\":(4,30,2020),    \n",
    "    \"2020-05\":(5,31,2020),\n",
    "    \"2020-06\":(6,30,2020),\n",
    "    \"2020-07\":(7,31,2020),\n",
    "    \"2020-08\":(8,31,2020)\n",
    "}"
   ]
  },
  {
   "cell_type": "code",
   "execution_count": 169,
   "metadata": {},
   "outputs": [
    {
     "name": "stdout",
     "output_type": "stream",
     "text": [
      "2020-1 data fetching done\n",
      "2020-2 data fetching done\n",
      "2020-3 data fetching done\n",
      "2020-4 data fetching done\n",
      "2020-5 data fetching done\n",
      "2020-6 data fetching done\n",
      "2020-7 data fetching done\n",
      "2020-8 data fetching done\n"
     ]
    }
   ],
   "source": [
    "if read_pm_files:\n",
    "#    month_argument_map = pm_argument_map\n",
    "    month_argument_map = new_argument_map3\n",
    "\n",
    "else:\n",
    "#    month_argument_map = gases_argument_map\n",
    "    month_argument_map = new_argument_map3\n",
    "    \n",
    "for file in month_argument_map:\n",
    "    f = Dataset(file + \".nc\", format=\"NETCDF4\")\n",
    "\n",
    "    lats, lons = f.variables[\"latitude\"][:], f.variables[\"longitude\"][:]\n",
    "    if read_pm_files:\n",
    "        ch4 = f.variables['tc_ch4'][:]\n",
    "        no = f.variables['tc_no'][:]\n",
    "        no2 = f.variables['tcno2'][:]\n",
    "        co = f.variables['tcco'][:]\n",
    "        so2 = f.variables['tcso2'][:]\n",
    "        pm2 = f.variables['pm2p5'][:]\n",
    "        pm10 = f.variables['pm10'][:]\n",
    "#        pm = f.variables['pm2p5'][:]\n",
    "    else:\n",
    "        no2 = f.variables['no2'][:]\n",
    "        o3 = f.variables['go3'][:]\n",
    "        so2 = f.variables['so2'][:]\n",
    "\n",
    "    arg = month_argument_map[file]\n",
    "    fill_dataframes(arg[0], arg[1], arg[2])\n",
    "    print(\"{0}-{1} data fetching done\".format(arg[2], arg[0]))"
   ]
  },
  {
   "cell_type": "code",
   "execution_count": 170,
   "metadata": {},
   "outputs": [],
   "source": [
    "if read_pm_files:\n",
    "#    doc_name = template_file_name[:-14]+\"_pm\"\n",
    "    doc_name = template_file_name[:-14]+\"_new-data3\"\n",
    "else:\n",
    "    doc_name = template_file_name[:-14]+\"_gases\""
   ]
  },
  {
   "cell_type": "code",
   "execution_count": 171,
   "metadata": {},
   "outputs": [],
   "source": [
    "writer1 = pd.ExcelWriter(doc_name+'_no.xlsx', engine='xlsxwriter')\n",
    "writer2 = pd.ExcelWriter(doc_name+'_no2.xlsx', engine='xlsxwriter')\n",
    "writer3 = pd.ExcelWriter(doc_name+'_so2.xlsx', engine='xlsxwriter')\n",
    "writer4 = pd.ExcelWriter(doc_name+'_co.xlsx', engine='xlsxwriter')\n",
    "writer5 = pd.ExcelWriter(doc_name+'_pm2p5.xlsx', engine='xlsxwriter')\n",
    "writer6 = pd.ExcelWriter(doc_name+'_pm10.xlsx', engine='xlsxwriter')"
   ]
  },
  {
   "cell_type": "code",
   "execution_count": 172,
   "metadata": {},
   "outputs": [
    {
     "name": "stdout",
     "output_type": "stream",
     "text": [
      "no to excel is completed\n",
      "no2 to excel is completed\n",
      "so2 to excel is completed\n",
      "co to excel is completed\n",
      "pm2.5 to excel is completed\n",
      "pm10 to excel is completed\n"
     ]
    }
   ],
   "source": [
    "if read_pm_files: \n",
    "    no_df.to_excel(writer1, sheet_name = \"no\", index = False)\n",
    "    print(\"no to excel is completed\")\n",
    "    no2_df.to_excel(writer2, sheet_name = \"no2\", index = False)\n",
    "    print(\"no2 to excel is completed\")\n",
    "    so2_df.to_excel(writer3, sheet_name = \"so2\", index = False)\n",
    "    print(\"so2 to excel is completed\")\n",
    "    co_df.to_excel(writer4, sheet_name = \"co\", index = False)\n",
    "    print(\"co to excel is completed\")\n",
    "    pm2_df.to_excel(writer5, sheet_name = \"pm2p5\", index = False)\n",
    "    print(\"pm2.5 to excel is completed\")\n",
    "    pm10_df.to_excel(writer6, sheet_name = \"pm10\", index = False)\n",
    "    print(\"pm10 to excel is completed\")\n",
    "\n",
    "else:\n",
    "    o3_df.to_excel(writer, sheet_name = \"o3\", index = False)\n",
    "    no2_df.to_excel(writer, sheet_name = \"no2\", index = False)\n",
    "    so2_df.to_excel(writer, sheet_name = \"so2\", index = False)"
   ]
  },
  {
   "cell_type": "code",
   "execution_count": 173,
   "metadata": {},
   "outputs": [],
   "source": [
    "writer1.close()\n",
    "writer2.close()\n",
    "writer3.close()\n",
    "writer4.close()\n",
    "writer5.close()\n",
    "writer6.close()"
   ]
  },
  {
   "cell_type": "markdown",
   "metadata": {},
   "source": [
    "## Manually Reading July2019 Gas Data"
   ]
  },
  {
   "cell_type": "markdown",
   "metadata": {},
   "source": [
    "ECMWF shifted their reporting for ozone, sulfur dioxide, and nitrogen dioxide from 60 levels of vertical resolution to 137 (see https://confluence.ecmwf.int/display/COPSRV/Implementation+of+IFS+cycle+46r1), so we read both and patch them together at their transition date, which was July 9 2019."
   ]
  },
  {
   "cell_type": "code",
   "execution_count": null,
   "metadata": {},
   "outputs": [],
   "source": [
    "data60 = Dataset(\"7 July2019 level 60 up to here.nc\", format=\"NETCDF4\")"
   ]
  },
  {
   "cell_type": "code",
   "execution_count": null,
   "metadata": {},
   "outputs": [],
   "source": [
    "data137 = Dataset(\"7 Jul2019 level 137 from here.nc\", format=\"NETCDF4\")"
   ]
  },
  {
   "cell_type": "code",
   "execution_count": null,
   "metadata": {},
   "outputs": [],
   "source": [
    "template_file_name = \"US_pollution_template.xlsx\"\n",
    "#template_file_name = \"global_simple_pollution_template.xlsx\"\n",
    "#template_file_name = \"city granular_template.xlsx\"\n",
    "#template_file_name = \"1072_pollution_template.xlsx\""
   ]
  },
  {
   "cell_type": "code",
   "execution_count": null,
   "metadata": {},
   "outputs": [],
   "source": [
    "no2_df = pd.read_excel(template_file_name)\n",
    "o3_df = pd.read_excel(template_file_name)\n",
    "so2_df = pd.read_excel(template_file_name)"
   ]
  },
  {
   "cell_type": "code",
   "execution_count": null,
   "metadata": {},
   "outputs": [],
   "source": [
    "lookup_lats, lookup_longs = no2_df[\"Lat\"], no2_df[\"Long\"]"
   ]
  },
  {
   "cell_type": "code",
   "execution_count": null,
   "metadata": {},
   "outputs": [],
   "source": [
    "lats, lons = data60.variables[\"latitude\"][:], data60.variables[\"longitude\"][:]\n",
    "no2 = data60.variables['no2'][:]\n",
    "o3 = data60.variables['go3'][:]\n",
    "so2 = data60.variables['so2'][:]\n",
    "\n",
    "fill_dataframes(7, 31, 2019)"
   ]
  },
  {
   "cell_type": "code",
   "execution_count": null,
   "metadata": {},
   "outputs": [],
   "source": [
    "writer = pd.ExcelWriter(template_file_name[:-14] + ' July - Level 60.xlsx', engine='xlsxwriter')\n",
    "\n",
    "o3_df.to_excel(writer, sheet_name = \"o3\", index = False)\n",
    "no2_df.to_excel(writer, sheet_name = \"no2\", index = False)\n",
    "so2_df.to_excel(writer, sheet_name = \"so2\", index = False)\n",
    "\n",
    "writer.close()"
   ]
  },
  {
   "cell_type": "markdown",
   "metadata": {},
   "source": [
    "### Level 137 Data"
   ]
  },
  {
   "cell_type": "code",
   "execution_count": null,
   "metadata": {},
   "outputs": [],
   "source": [
    "no2_df = pd.read_excel(template_file_name)\n",
    "o3_df = pd.read_excel(template_file_name)\n",
    "so2_df = pd.read_excel(template_file_name)"
   ]
  },
  {
   "cell_type": "code",
   "execution_count": null,
   "metadata": {},
   "outputs": [],
   "source": [
    "lookup_lats, lookup_longs = no2_df[\"Lat\"], no2_df[\"Long\"]"
   ]
  },
  {
   "cell_type": "code",
   "execution_count": null,
   "metadata": {},
   "outputs": [],
   "source": [
    "lats, lons = data137.variables[\"latitude\"][:], data137.variables[\"longitude\"][:]\n",
    "no2 = data137.variables['no2'][:]\n",
    "o3 = data137.variables['go3'][:]\n",
    "so2 = data137.variables['so2'][:]\n",
    "\n",
    "fill_dataframes(7, 23, 2019) #only reading 23 days since data begins on July 9."
   ]
  },
  {
   "cell_type": "code",
   "execution_count": null,
   "metadata": {},
   "outputs": [],
   "source": [
    "writer = pd.ExcelWriter(template_file_name[:-14] + ' July - Level 137.xlsx', engine='xlsxwriter')\n",
    "\n",
    "o3_df.to_excel(writer, sheet_name = \"o3\", index = False)\n",
    "no2_df.to_excel(writer, sheet_name = \"no2\", index = False)\n",
    "so2_df.to_excel(writer, sheet_name = \"so2\", index = False)\n",
    "\n",
    "writer.close()"
   ]
  }
 ],
 "metadata": {
  "kernelspec": {
   "display_name": "Python 3",
   "language": "python",
   "name": "python3"
  },
  "language_info": {
   "codemirror_mode": {
    "name": "ipython",
    "version": 3
   },
   "file_extension": ".py",
   "mimetype": "text/x-python",
   "name": "python",
   "nbconvert_exporter": "python",
   "pygments_lexer": "ipython3",
   "version": "3.8.3"
  }
 },
 "nbformat": 4,
 "nbformat_minor": 4
}
